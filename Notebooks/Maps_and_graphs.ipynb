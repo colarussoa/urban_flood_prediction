{
 "cells": [
  {
   "cell_type": "markdown",
   "id": "5d60c2ec-49d1-49d6-ac36-736643aeb2da",
   "metadata": {},
   "source": [
    "<h2>Maps Needed:</h2>\n",
    "\n",
    "<ol class=\"toc\" role=\"list\">\n",
    "    <li>\n",
    "        Hotspot of HWM data for Helene and Milton. Probably should repeat for camera data\n",
    "                <ol role=\"list\">\n",
    "            <li>\n",
    "                Get HWM data and turn into a csv\n",
    "            </li>\n",
    "            <li>\n",
    "                Make seperate csvs for Helene and Milton\n",
    "            </li>\n",
    "            <li>\n",
    "                Figure out how to do a hotspot analysis and mapping in python\n",
    "            </li>\n",
    "        </ol>\n",
    "    </li>\n",
    "    <li>\n",
    "        Map of all AWN sensors (a) and WeatherSTEM sensors (b) collecting rainfall data during the events. Also need to check Weather Underground (WU), PWSWeather, and MeteoBridge / Ecowitt.net\n",
    "    </li>\n",
    "    <li>\n",
    "        Map of all other inputs: \n",
    "    </li>\n",
    "    <li>\n",
    "        Map of input derived products\n",
    "    </li>\n",
    "</ol>"
   ]
  },
  {
   "cell_type": "code",
   "execution_count": null,
   "id": "f26bed5f-7030-461b-879a-95525932c005",
   "metadata": {},
   "outputs": [],
   "source": []
  }
 ],
 "metadata": {
  "kernelspec": {
   "display_name": "Python (venv)",
   "language": "python",
   "name": "my_venv"
  },
  "language_info": {
   "codemirror_mode": {
    "name": "ipython",
    "version": 3
   },
   "file_extension": ".py",
   "mimetype": "text/x-python",
   "name": "python",
   "nbconvert_exporter": "python",
   "pygments_lexer": "ipython3",
   "version": "3.12.1"
  }
 },
 "nbformat": 4,
 "nbformat_minor": 5
}
