{
 "cells": [
  {
   "cell_type": "code",
   "execution_count": 3,
   "id": "a3b971d2-d403-441e-86f7-cf35337d66ac",
   "metadata": {},
   "outputs": [],
   "source": [
    "import time\n",
    "import math\n",
    "import requests\n",
    "import pandas as pd\n",
    "from datetime import datetime, timezone, timedelta"
   ]
  },
  {
   "cell_type": "markdown",
   "id": "89212e6c-dec2-4b75-8418-e10c8b668db2",
   "metadata": {},
   "source": [
    "Get map of all AWN sensors\n",
    "\n",
    "https://lightning.ambientweather.net/devices?%24publicNear%5Bcoords%5D%5B0%5D=-82.7778579&%24publicNear%5Bcoords%5D%5B1%5D=27.876394&%24limit=1000\n",
    "\n",
    "So there's this that returns the mac addresses but it looks like its limited to 100, maybe make a grid of pinellas county split it into like 5000 x 5000 m grid take the centroid, and load those into the lat lon. Repeat the process"
   ]
  },
  {
   "cell_type": "code",
   "execution_count": 6,
   "id": "14bf5b92-26a5-480b-a627-01fee53a4344",
   "metadata": {},
   "outputs": [
    {
     "name": "stdout",
     "output_type": "stream",
     "text": [
      "100\n"
     ]
    }
   ],
   "source": [
    "#method limited to 100\n",
    "url = 'https://lightning.ambientweather.net/devices?%24publicNear%5Bcoords%5D%5B0%5D=-82.7778579&%24publicNear%5Bcoords%5D%5B1%5D=27.876394&%24limit=1000'\n",
    "\n",
    "r = requests.get(url, timeout=30)\n",
    "\n",
    "print(len(r.json()['data']))"
   ]
  },
  {
   "cell_type": "markdown",
   "id": "1ce8f265-12ae-498b-98b7-59cdb907ebfe",
   "metadata": {},
   "source": [
    "Need to set it up so it has queries for milton and helene"
   ]
  },
  {
   "cell_type": "code",
   "execution_count": null,
   "id": "354f1911-58d9-40ef-b213-91981c5843e1",
   "metadata": {},
   "outputs": [],
   "source": [
    "BASE = \"https://lightning.ambientweather.net/device-data\"\n",
    "MAC  = \"C8:C9:A3:10:32:1D\"  # your macAddress (plain; requests will URL-encode)\n",
    "\n",
    "HEADERS = {\n",
    "    \"User-Agent\": \"Mozilla/5.0\",\n",
    "    \"Referer\": \"https://ambientweather.net/\",  # usually not required but helps\n",
    "}\n",
    "\n",
    "def to_ms(dt):\n",
    "    # dt as aware UTC datetime → epoch ms\n",
    "    return int(dt.replace(tzinfo=timezone.utc).timestamp() * 1000)\n",
    "\n",
    "def fetch_chunk(start_dt, end_dt, limit=100, asc=True):\n",
    "    params = {\n",
    "        \"macAddress\": MAC,\n",
    "        \"start\": to_ms(start_dt),\n",
    "        \"end\": to_ms(end_dt),\n",
    "        \"limit\": limit,\n",
    "        \"asc\": str(asc).lower(),\n",
    "    }\n",
    "    r = requests.get(BASE, params=params, headers=HEADERS, timeout=30)\n",
    "    r.raise_for_status()\n",
    "    return r.json()\n",
    "\n",
    "for i in range(7):\n",
    "    print(i, i+1)\n",
    "    today_utc = datetime.now(timezone.utc).date()\n",
    "    y_start = datetime.combine(today_utc - timedelta(days=i+1), datetime.min.time(), tzinfo=timezone.utc)\n",
    "    y_end   = datetime.combine(today_utc - timedelta(days=i), datetime.min.time(), tzinfo=timezone.utc)\n",
    "    print(y_start, y_end)\n",
    "    payload = fetch_chunk(y_start, y_end, limit=1000, asc=True)\n",
    "    print(len(payload['data']))\n",
    "    if i == 0:\n",
    "        df1 = pd.json_normalize(payload['data'])\n",
    "        df1[\"dateutc\"] = pd.to_datetime(df1[\"dateutc\"], unit=\"ms\")\n",
    "    else:\n",
    "        df2 = pd.json_normalize(payload['data'])\n",
    "        df2[\"dateutc\"] = pd.to_datetime(df2[\"dateutc\"], unit=\"ms\")\n",
    "        df1 = pd.concat([df1, df2], ignore_index=True)\n",
    "df1.to_csv('output.csv', index=False)"
   ]
  }
 ],
 "metadata": {
  "kernelspec": {
   "display_name": "Python (venv)",
   "language": "python",
   "name": "my_venv"
  },
  "language_info": {
   "codemirror_mode": {
    "name": "ipython",
    "version": 3
   },
   "file_extension": ".py",
   "mimetype": "text/x-python",
   "name": "python",
   "nbconvert_exporter": "python",
   "pygments_lexer": "ipython3",
   "version": "3.12.1"
  }
 },
 "nbformat": 4,
 "nbformat_minor": 5
}
