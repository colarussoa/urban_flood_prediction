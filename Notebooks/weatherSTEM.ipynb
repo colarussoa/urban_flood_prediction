{
 "cells": [
  {
   "cell_type": "code",
   "execution_count": 1,
   "id": "98276755-706d-408a-a30f-fbaf05acdfdc",
   "metadata": {},
   "outputs": [],
   "source": [
    "import requests\n",
    "from datetime import date\n",
    "from datetime import datetime\n",
    "import dateutil.relativedelta\n",
    "import json"
   ]
  },
  {
   "cell_type": "markdown",
   "id": "df7889a7-b148-4de5-b912-fa65616683c5",
   "metadata": {},
   "source": [
    "# Get the stations: name, lat & lon, and all its sensors\n",
    "<p>\n",
    "make an individual .txt that has name, lat & lon, and all its sensors as headers with only name, lat, & lon populated for each sensor\n",
    "</p>\n",
    "<br><br>\n",
    "<p>\n",
    "make a .txt with name, array, lat, long to map with AWN sensors, where array is WeatherSTEM and the other is AWN\n",
    "</p>"
   ]
  },
  {
   "cell_type": "markdown",
   "id": "0579e74b-d18a-4cee-a64d-1c0fcd048da3",
   "metadata": {},
   "source": [
    "<h2>Get the .txt of all station ids from github and define the function to get the sensor info</h2>"
   ]
  },
  {
   "cell_type": "code",
   "execution_count": 62,
   "id": "fa99c42d-b70c-4f7f-bb88-8cdfdde20c50",
   "metadata": {},
   "outputs": [],
   "source": [
    "#returns the station info as a json for the current time\n",
    "def get_sensor_info(stationid):\n",
    "    #data to pass to the API\n",
    "    data = {'api_key':'azdz5w5p',\n",
    "            'stations':[f'{stationid}@pinellas.weatherstem.com']\n",
    "           }\n",
    "    url = 'https://api.weatherstem.com/api'\n",
    "    #format data var and get response\n",
    "    json_data = json.dumps(data)\n",
    "    response = requests.post(url, data=json_data)\n",
    "    return response\n",
    "\n",
    "#make an individual .txt that has name, lat & long, and all its sensors as headers with only name, lat, & long populated for each sensor\n",
    "def name_lat_long_each(stationid):\n",
    "    response = get_sensor_info(stationid)\n",
    "    name = response.json()[0]['station']['name']\n",
    "    long = response.json()[0]['station']['lon']\n",
    "    lat = response.json()[0]['station']['lat']\n",
    "    sensors_list = ['Name','longitude','latitude']\n",
    "    for entry in response.json()[0]['record']['readings']:\n",
    "        sensor = entry.get(\"sensor\")\n",
    "        # value = entry.get(\"value\")\n",
    "        unit = entry.get(\"unit_symbol\") or entry.get(\"unit\")  # prefer symbol if present\n",
    "        sensor = sensor.replace(',', '').replace(' ', '_').replace('.', '').replace('&', '').replace(';', '').replace('/', '_').replace('^', '_')\n",
    "        unit = unit.replace(',', '').replace(' ', '_').replace('.', '').replace('&', '').replace(';', '').replace('/', '_').replace('^', '_')\n",
    "        out = sensor+unit\n",
    "        sensors_list.append(out)\n",
    "        file_name = './wstem_out/'+name+\".txt\"\n",
    "        with open(file_name, 'w') as file:\n",
    "            file.write(str(sensors_list).replace('[','').replace(']',''))\n",
    "            file.write('\\n')\n",
    "            file.write(name+', '+long+', '+lat)\n",
    "\n",
    "def name_lat_long_all(stations):\n",
    "    for stationid in stations:\n",
    "        response = get_sensor_info(stationid)\n",
    "        name = response.json()[0]['station']['name']\n",
    "        long = response.json()[0]['station']['lon']\n",
    "        lat = response.json()[0]['station']['lat']\n",
    "        file_name = \"Weatherstem_coords.txt\"\n",
    "        with open(file_name, 'a') as file:\n",
    "            file.write(name+', '+'WeatherSTEM'+', '+lat+', '+long)\n",
    "            file.write('\\n')\n",
    "\n",
    "url = 'https://raw.githubusercontent.com/colarussoa/urban_flood_prediction/refs/heads/main/Data/weatherstem_stationids.txt'\n",
    "response = requests.get(url)\n",
    "stations = response.text.splitlines()\n",
    "\n",
    "# for stationid in stations:\n",
    "#     name_lat_long_each(stationid)\n",
    "\n",
    "name_lat_long_all(stations)"
   ]
  },
  {
   "cell_type": "markdown",
   "id": "43086bfb-6424-42b3-bdb4-62e3c561d35b",
   "metadata": {},
   "source": [
    "# Get historic station info"
   ]
  },
  {
   "cell_type": "code",
   "execution_count": null,
   "id": "95b60809-ee1d-44ec-b186-3a2336cc5185",
   "metadata": {},
   "outputs": [],
   "source": []
  }
 ],
 "metadata": {
  "kernelspec": {
   "display_name": "Python (venv)",
   "language": "python",
   "name": "my_venv"
  },
  "language_info": {
   "codemirror_mode": {
    "name": "ipython",
    "version": 3
   },
   "file_extension": ".py",
   "mimetype": "text/x-python",
   "name": "python",
   "nbconvert_exporter": "python",
   "pygments_lexer": "ipython3",
   "version": "3.12.10"
  }
 },
 "nbformat": 4,
 "nbformat_minor": 5
}
