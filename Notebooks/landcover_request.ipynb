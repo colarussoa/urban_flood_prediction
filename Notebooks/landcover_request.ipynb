{
 "cells": [
  {
   "cell_type": "code",
   "execution_count": null,
   "id": "9d5c0460-1fa9-47b0-9c13-a3ab4213e800",
   "metadata": {},
   "outputs": [],
   "source": [
    "import requests, zipfile, io, os\n",
    "import geopandas as gpd\n",
    "from owslib.wms import WebMapService"
   ]
  },
  {
   "cell_type": "markdown",
   "id": "d0644fbc-42ba-405c-aaef-f777e45604e5",
   "metadata": {},
   "source": [
    "#top data service page with different options \"Get the Data\"\n",
    "https://www.usgs.gov/centers/eros/news/annual-nlcd-lengthens-land-cover-record-40-years\n",
    "\n",
    "#data service page\n",
    "https://www.mrlc.gov/data-services-page\n",
    "\n",
    "#link to data\n",
    "https://dmsdata.cr.usgs.gov/geoserver/mrlc_Land-Cover-Native_conus_year_data/wms"
   ]
  },
  {
   "cell_type": "code",
   "execution_count": null,
   "id": "33ffaa8e-46c1-4c6d-bf54-22d965cb7fc4",
   "metadata": {},
   "outputs": [],
   "source": [
    "WMS_URL = \"https://dmsdata.cr.usgs.gov/geoserver/mrlc_Land-Cover-Native_conus_year_data/wms\"\n",
    "\n",
    "wms = WebMapService(WMS_URL, version=\"1.3.0\")\n",
    "\n",
    "# See a few layer names (full list can be long)\n",
    "layers = list(wms.contents)\n",
    "print(\"Example layers:\", layers[:10])\n",
    "\n",
    "# Peek at one layer's metadata (replace with a layer you see above)\n",
    "lyr = wms[ layers[0] ]\n",
    "print(\"Title:\", lyr.title)\n",
    "print(\"CRS options:\", lyr.crsOptions)\n",
    "print(\"BoundingBox (native):\", lyr.boundingBoxWGS84)\n",
    "\n",
    "# What image formats does GetMap support?\n",
    "print(\"GetMap formats:\", wms.getOperationByName(\"GetMap\").formatOptions)"
   ]
  },
  {
   "cell_type": "code",
   "execution_count": null,
   "id": "d2e7891e-94d0-4e66-880f-d66ff4176cc1",
   "metadata": {},
   "outputs": [],
   "source": [
    "WMS_URL = \"https://dmsdata.cr.usgs.gov/geoserver/mrlc_Land-Cover-Native_conus_year_data/wms\"\n",
    "LAYER    = \"<PUT_A_LAYER_NAME_HERE>\"   # e.g., something you found in step 1\n",
    "CRS      = \"EPSG:3857\"                 # web mercator (common choice)\n",
    "OUT_PNG  = \"nlcd_example.png\"\n",
    "\n",
    "#get bbox extent\n",
    "#host pinellas_county shapefile on github and download to memory\n",
    "zip_url = \"https://github.com/colarussoa/urban_flood_prediction/archive/refs/heads/main.zip\"\n",
    "response = requests.get(zip_url)\n",
    "with zipfile.ZipFile(io.BytesIO(response.content)) as z:\n",
    "    z.extractall(\"urban_flood_prediction_main\")\n",
    "shapefile_path = os.path.join(\n",
    "    \"urban_flood_prediction_main\", \n",
    "    \"urban_flood_prediction-main\", \n",
    "    \"Data\", \n",
    "    \"pinellas_county_shp\", \n",
    "    \"pinellas_county.shp\"\n",
    ")\n",
    "\n",
    "aoi = gpd.read_file(shapefile_path).to_crs(CRS)\n",
    "minx, miny, maxx, maxy = aoi.total_bounds\n",
    "bbox_3857 = (minx, miny, maxx, maxy)\n",
    "\n",
    "wms = WebMapService(WMS_URL, version=\"1.3.0\")\n",
    "\n",
    "img = wms.getmap(\n",
    "    layers=[LAYER],\n",
    "    styles=[\"\"],             # usually empty style for NLCD products\n",
    "    srs=CRS,                 # CRS for 1.3.0\n",
    "    bbox=bbox_3857,          # (minx, miny, maxx, maxy) in EPSG:3857\n",
    "    size=(2048, 2048),       # image pixels (adjust as needed)\n",
    "    format=\"image/png\",      # or 'image/geotiff' if supported by the service\n",
    "    transparent=True\n",
    ")\n",
    "\n",
    "with open(OUT_PNG, \"wb\") as f:\n",
    "    f.write(img.read())\n",
    "\n",
    "print(\"Saved:\", OUT_PNG)"
   ]
  },
  {
   "cell_type": "code",
   "execution_count": null,
   "id": "b6e4da85-bc9a-46d5-b4a8-4357c8a437ae",
   "metadata": {},
   "outputs": [],
   "source": []
  }
 ],
 "metadata": {
  "kernelspec": {
   "display_name": "Python (venv)",
   "language": "python",
   "name": "my_venv"
  },
  "language_info": {
   "codemirror_mode": {
    "name": "ipython",
    "version": 3
   },
   "file_extension": ".py",
   "mimetype": "text/x-python",
   "name": "python",
   "nbconvert_exporter": "python",
   "pygments_lexer": "ipython3",
   "version": "3.12.1"
  }
 },
 "nbformat": 4,
 "nbformat_minor": 5
}
