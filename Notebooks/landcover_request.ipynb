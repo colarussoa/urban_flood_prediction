{
 "cells": [
  {
   "cell_type": "code",
   "execution_count": null,
   "id": "ce6593a1-f71f-472d-be2c-4e6d7cce04f5",
   "metadata": {},
   "outputs": [],
   "source": [
    "#top data service page with different options \"Get the Data\"\n",
    "https://www.usgs.gov/centers/eros/news/annual-nlcd-lengthens-land-cover-record-40-years\n",
    "\n",
    "#data service page\n",
    "https://www.mrlc.gov/data-services-page\n",
    "\n",
    "#link to data\n",
    "https://dmsdata.cr.usgs.gov/geoserver/mrlc_Land-Cover-Native_conus_year_data/wms"
   ]
  },
  {
   "cell_type": "code",
   "execution_count": 1,
   "id": "33ffaa8e-46c1-4c6d-bf54-22d965cb7fc4",
   "metadata": {},
   "outputs": [
    {
     "ename": "ModuleNotFoundError",
     "evalue": "No module named 'owslib'",
     "output_type": "error",
     "traceback": [
      "\u001b[31m---------------------------------------------------------------------------\u001b[39m",
      "\u001b[31mModuleNotFoundError\u001b[39m                       Traceback (most recent call last)",
      "\u001b[36mCell\u001b[39m\u001b[36m \u001b[39m\u001b[32mIn[1]\u001b[39m\u001b[32m, line 1\u001b[39m\n\u001b[32m----> \u001b[39m\u001b[32m1\u001b[39m \u001b[38;5;28;01mfrom\u001b[39;00m\u001b[38;5;250m \u001b[39m\u001b[34;01mowslib\u001b[39;00m\u001b[34;01m.\u001b[39;00m\u001b[34;01mwms\u001b[39;00m\u001b[38;5;250m \u001b[39m\u001b[38;5;28;01mimport\u001b[39;00m WebMapService\n\u001b[32m      3\u001b[39m WMS_URL = \u001b[33m\"\u001b[39m\u001b[33mhttps://dmsdata.cr.usgs.gov/geoserver/mrlc_Land-Cover-Native_conus_year_data/wms\u001b[39m\u001b[33m\"\u001b[39m\n\u001b[32m      5\u001b[39m wms = WebMapService(WMS_URL, version=\u001b[33m\"\u001b[39m\u001b[33m1.3.0\u001b[39m\u001b[33m\"\u001b[39m)\n",
      "\u001b[31mModuleNotFoundError\u001b[39m: No module named 'owslib'"
     ]
    }
   ],
   "source": [
    "from owslib.wms import WebMapService\n",
    "\n",
    "WMS_URL = \"https://dmsdata.cr.usgs.gov/geoserver/mrlc_Land-Cover-Native_conus_year_data/wms\"\n",
    "\n",
    "wms = WebMapService(WMS_URL, version=\"1.3.0\")\n",
    "\n",
    "# See a few layer names (full list can be long)\n",
    "layers = list(wms.contents)\n",
    "print(\"Example layers:\", layers[:10])\n",
    "\n",
    "# Peek at one layer's metadata (replace with a layer you see above)\n",
    "lyr = wms[ layers[0] ]\n",
    "print(\"Title:\", lyr.title)\n",
    "print(\"CRS options:\", lyr.crsOptions)\n",
    "print(\"BoundingBox (native):\", lyr.boundingBoxWGS84)\n",
    "\n",
    "# What image formats does GetMap support?\n",
    "print(\"GetMap formats:\", wms.getOperationByName(\"GetMap\").formatOptions)"
   ]
  },
  {
   "cell_type": "code",
   "execution_count": null,
   "id": "d2e7891e-94d0-4e66-880f-d66ff4176cc1",
   "metadata": {},
   "outputs": [],
   "source": []
  }
 ],
 "metadata": {
  "kernelspec": {
   "display_name": "Python (venv)",
   "language": "python",
   "name": "my_venv"
  },
  "language_info": {
   "codemirror_mode": {
    "name": "ipython",
    "version": 3
   },
   "file_extension": ".py",
   "mimetype": "text/x-python",
   "name": "python",
   "nbconvert_exporter": "python",
   "pygments_lexer": "ipython3",
   "version": "3.12.1"
  }
 },
 "nbformat": 4,
 "nbformat_minor": 5
}
